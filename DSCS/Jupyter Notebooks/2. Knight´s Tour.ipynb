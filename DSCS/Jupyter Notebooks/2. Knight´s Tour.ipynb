{
 "cells": [
  {
   "cell_type": "markdown",
   "id": "94774a36",
   "metadata": {},
   "source": [
    "# Data Science Code Series 2: Knight´s tour algorithm"
   ]
  },
  {
   "cell_type": "markdown",
   "id": "4a629f75",
   "metadata": {},
   "source": [
    "### Learning Goals\n",
    "\n",
    "In this notebook, we will tackle several tasks using the Python programming language, focusing on Informed Search Trees.\n",
    "\n",
    "By the end of this document, you will have gained the ability to:\n",
    "\n",
    "- Define the state for a given problem.\n",
    "- Express problems in the context of search trees.\n",
    "- Implement the A* search strategy to discover optimal solutions for various problems."
   ]
  },
  {
   "cell_type": "markdown",
   "id": "327a39f1",
   "metadata": {},
   "source": [
    "### Chess Knight Journey\n",
    "\n",
    "\n",
    "#### Problem Description\n",
    "\n",
    "In this notebook, we'll tackle the challenge of finding a path for a knight on a chessboard to reach a specified destination starting from a given source position. This intriguing problem is often referred to as a \"knight's tour,\" which involves a sequence of knight moves on the chessboard. The objective is for the knight to land on each square exactly once during its journey, without revisiting any square."
   ]
  },
  {
   "cell_type": "markdown",
   "id": "e4231d4a",
   "metadata": {},
   "source": [
    "## Challenge: Implementing A* Search"
   ]
  },
  {
   "cell_type": "markdown",
   "id": "a6102b09",
   "metadata": {},
   "source": [
    "In this exercise, we will use the A* search technique, similar to BFS, to solve the problem of finding a path from the starting position to the ending position of the knight on the chessboard. To do this, we need to define the problem in terms of the current state.\n",
    "\n",
    "In this context, the state is represented by the knight's position on the chessboard. To manage this state, we've created an object called **Knight_state**. It's characterized by the knight's x position and y position on the chessboard. Additionally, we've included the parent node as one of its attributes.\n",
    "\n",
    "The node's heuristic value is designated by the h attribute, while the cost from the starting node is recorded as g. The total cost, or the value of the evaluation function, is determined using the cost attribute. For the root node, the parent node is set to None, and the cost from the starting node is 0 by default, unless otherwise specified.\n",
    "\n",
    "This setup allows us to efficiently navigate and evaluate the knight's tour on the chessboard."
   ]
  },
  {
   "cell_type": "markdown",
   "id": "0f355066",
   "metadata": {},
   "source": [
    "### Step 1\n",
    "\n",
    "\n",
    "In the realm of the A* Algorithm, our trusty evaluation function is represented by the equation:\n",
    "\n",
    "$$ Cost = fn = gn + hn $$\n",
    "\n",
    "Now, here's the task: we need to craft a method called **calc_cost()** within the **Knight_state** class. What this method does is calculate the evaluation function for a particular state.\n",
    "\n",
    "For our heuristic value, we'll be considering the straight-line distance from the current position to the desired end position. This distance can be computed using the Euclidean distance formula. So, if we have the coordinates $(x_1, y_1)$ for the current state and $(x_2, y_2)$ for the end state, our heuristic value ($hn$) is calculated like this:\n",
    "\n",
    "$$ \\text{Heuristic} = hn = \\sqrt{(x_2-x_1)^2+(y_2-y_1)^2} $$\n",
    "\n",
    "Here comes the interesting part: the function takes the goal state as its parameter. Inside this function, it's got a dual mission. First, it calculates the heuristic value ($hn$). Second, it computes the cost. Now, keep in mind that the value of g has already been specified when we created the object, so that part is taken care of. Once the function has done its job, it updates the values of the attributes h and cost."
   ]
  },
  {
   "cell_type": "markdown",
   "id": "b56bec8c",
   "metadata": {},
   "source": [
    "#### Code:"
   ]
  },
  {
   "cell_type": "code",
   "execution_count": 1,
   "id": "c91c3d2f",
   "metadata": {},
   "outputs": [
    {
     "name": "stdout",
     "output_type": "stream",
     "text": [
      "The evaluation function value for the start node is: 9.899494936611665\n"
     ]
    }
   ],
   "source": [
    "import math\n",
    "\n",
    "# STEP 1: Define the Knight_state class\n",
    "\n",
    "class Knight_state:\n",
    "    def __init__(self, x, y, g=0, parent=None):\n",
    "        \"\"\"\n",
    "        Initialize a Knight_state.\n",
    "\n",
    "        Args:\n",
    "        x (int): x-coordinate on the chessboard.\n",
    "        y (int): y-coordinate on the chessboard.\n",
    "        g (float): The cost from the starting node to this node (default is 0).\n",
    "        parent (Knight_state): The parent node (default is None).\n",
    "\n",
    "        Attributes:\n",
    "        x (int): x-coordinate.\n",
    "        y (int): y-coordinate.\n",
    "        g (float): Cost from the starting node.\n",
    "        h (float): Heuristic value.\n",
    "        cost (float): Total cost.\n",
    "        parent (Knight_state): Parent node.\n",
    "        \"\"\"\n",
    "        self.x = x\n",
    "        self.y = y\n",
    "        self.parent = parent\n",
    "        self.g = g\n",
    "        self.h = None\n",
    "        self.cost = None\n",
    "    \n",
    "    def calc_cost(self, goal):\n",
    "        \"\"\"\n",
    "        Calculate the heuristic value (h) and total cost (cost) for this Knight_state.\n",
    "\n",
    "        Args:\n",
    "        goal (Knight_state): The goal state to calculate the heuristic value.\n",
    "\n",
    "        Updates:\n",
    "        h (float): Heuristic value.\n",
    "        cost (float): Total cost using A* evaluation function.\n",
    "        \"\"\"\n",
    "        # Calculate the Euclidean distance (heuristic value) from the current state to the goal state\n",
    "        self.h = math.sqrt((goal.x - self.x) ** 2 + (goal.y - self.y) ** 2)\n",
    "\n",
    "        # Calculate the total cost using the A* evaluation function\n",
    "        self.cost = self.g + self.h\n",
    "       \n",
    "    def __hash__(self):\n",
    "        \"\"\"\n",
    "        Hash function to enable storing Knight_state objects in sets and dictionaries.\n",
    "\n",
    "        Returns:\n",
    "        hash value: Hash value based on x, y, g, h, and cost attributes.\n",
    "        \"\"\"\n",
    "        return hash((self.x, self.y, self.g, self.h, self.cost))\n",
    "\n",
    "    def __eq__(self, other):\n",
    "        \"\"\"\n",
    "        Compare if two Knight_state objects are equal based on their x and y coordinates.\n",
    "\n",
    "        Args:\n",
    "        other (Knight_state): Another Knight_state to compare.\n",
    "\n",
    "        Returns:\n",
    "        bool: True if x and y coordinates are equal, False otherwise.\n",
    "        \"\"\"\n",
    "        return (self.x, self.y) == (other.x, other.y)\n",
    "    \n",
    "'''\n",
    "Define the chessboard size as 8 by 8.\n",
    "Our objective is to find a path from the top-left corner to the bottom-right corner.\n",
    "Let's establish the start and end states.\n",
    "'''    \n",
    "\n",
    "# Define the chessboard size as 8 by 8\n",
    "N = 8\n",
    "\n",
    "# Create the start and end states\n",
    "start = Knight_state(7, 7)\n",
    "end = Knight_state(0, 0)\n",
    "\n",
    "# Calculate the evaluation function value for the start node\n",
    "start.calc_cost(end)\n",
    "print(\"The evaluation function value for the start node is:\", start.cost)"
   ]
  },
  {
   "cell_type": "markdown",
   "id": "136a4554",
   "metadata": {},
   "source": [
    "### Step 1.1\n",
    "\n",
    "We've got two handy functions here, **isValid()** and **next_positions()**, all set up for you.\n",
    "\n",
    "*isValid()* is the one to check if a given coordinate is playing by the rules or not. It's like the referee of the game.\n",
    "\n",
    "*next_positions()*, on the other hand, is your playbook for the next moves. It hands you a list of coordinates for the knight's next possible positions, based on where it's currently at.\n",
    "\n",
    "And don't forget, we've got the board size marked as **N**, globally set at 8. So, when you're ready to make some moves using these functions, just pass along that **N** as your parameter for the game board size."
   ]
  },
  {
   "cell_type": "markdown",
   "id": "84af8298",
   "metadata": {},
   "source": [
    "#### Code:"
   ]
  },
  {
   "cell_type": "code",
   "execution_count": 2,
   "id": "d1bfaf3e",
   "metadata": {},
   "outputs": [],
   "source": [
    "# STEP 1.1: Define position validation and next positions functions.\n",
    "\n",
    "def isValid(x, y, N):\n",
    "    \"\"\"\n",
    "    Check if a given coordinate is within the bounds of the chessboard.\n",
    "\n",
    "    Args:\n",
    "    x (int): x-coordinate to check.\n",
    "    y (int): y-coordinate to check.\n",
    "    N (int): The size of the chessboard.\n",
    "\n",
    "    Returns:\n",
    "    bool: True if the coordinate is valid, False otherwise.\n",
    "    \"\"\"\n",
    "    return not (x < 0 or y < 0 or x >= N or y >= N)\n",
    "\n",
    "def next_positions(x, y, N):\n",
    "    \"\"\"\n",
    "    Get a list of coordinates for the knight's next possible positions.\n",
    "\n",
    "    Args:\n",
    "    x (int): Current x-coordinate of the knight.\n",
    "    y (int): Current y-coordinate of the knight.\n",
    "    N (int): The size of the chessboard.\n",
    "\n",
    "    Returns:\n",
    "    list of tuple: List of valid coordinates for the knight's next moves.\n",
    "    \"\"\"\n",
    "    next_pos = []\n",
    "    row = [2, 2, -2, -2, 1, 1, -1, -1]\n",
    "    col = [-1, 1, 1, -1, 2, -2, 2, -2]\n",
    "    for i in range(len(row)):\n",
    "        x1 = x + row[i]\n",
    "        y1 = y + col[i]\n",
    "        if isValid(x1, y1, N):\n",
    "            next_pos.append((x1, y1))\n",
    "    return next_pos"
   ]
  },
  {
   "cell_type": "markdown",
   "id": "c9828f01",
   "metadata": {},
   "source": [
    "### Step 2\n",
    "\n",
    "\n",
    "Alright, let's whip up a function called **get_neighbours()**. It's got a simple job: take the current state of our knight and give us a list of possible next states, complete with their calculated costs.\n",
    "\n",
    "**Input:** Feed it the current state (as a Knight_state object).\n",
    "\n",
    "**Output:** You get in return a bunch of neighboring states, all bundled in a nice list of Knight_state objects.\n",
    "\n",
    "Here's the game plan:\n",
    "\n",
    "1) For figuring out where the knight can go next, we're tapping into the **next_positions()** function we've got on hand. That's where we get a list of possible coordinates.\n",
    "\n",
    "2) For each of those coordinates, we're creating a fresh **Knight_state** object. These will be our neighboring states.\n",
    "\n",
    "3) Now, let's talk costs. We've got two knights, our current one and the neighbor. To reach that neighbor, we've got a transition cost. That's what we call the \"step.\" We calculate it like this:\n",
    "\n",
    "$$ \\text{Transition cost} = Step = \\sqrt{(x_2-x_1)^2+(y_2-y_1)^2} $$\n",
    "\n",
    "- Where $(x_1, y_1)$ are the coordinates of our current state, and $(x_2, y_2)$ are the coordinates of the neighboring state.\n",
    "- We also make sure that the parent node of these neighboring states is set to the current state. That's important because it helps us backtrack the path to find the solution.\n",
    "\n",
    "4) Once these objects are all set up, we give them a quick call to the **calc_cost()** method to update their cost values.\n",
    "\n",
    "And there you have it! We've got ourselves a bunch of potential moves to explore."
   ]
  },
  {
   "cell_type": "markdown",
   "id": "5b91daca",
   "metadata": {},
   "source": [
    "#### Code:"
   ]
  },
  {
   "cell_type": "code",
   "execution_count": 3,
   "id": "4a7bcd90",
   "metadata": {},
   "outputs": [
    {
     "name": "stdout",
     "output_type": "stream",
     "text": [
      "Number of the possible next positions: 2\n",
      "\n",
      "One of the possible next positions description:\n",
      "Coordinates: (5, 6)\n",
      "Cost: 10.046317653406444\n"
     ]
    }
   ],
   "source": [
    "# STEP 2: Define the function to input th knight's current position and output a list of the possible \n",
    "# next positions, by cost.\n",
    "\n",
    "def get_neighbours(curr_state, N):\n",
    "    \"\"\"\n",
    "    Get a list of neighboring states with calculated costs for the knight's next moves.\n",
    "\n",
    "    Args:\n",
    "    curr_state (Knight_state): The current state of the knight.\n",
    "    N (int): The size of the chessboard.\n",
    "\n",
    "    Returns:\n",
    "    list of Knight_state: List of neighboring states with updated costs.\n",
    "    \"\"\"\n",
    "    neighbors = []\n",
    "\n",
    "    # Get the current state's coordinates\n",
    "    x1, y1 = curr_state.x, curr_state.y\n",
    "\n",
    "    # Get the next possible coordinates using next_positions()\n",
    "    next_coords = next_positions(x1, y1, N)\n",
    "\n",
    "    for x2, y2 in next_coords:\n",
    "        # Calculate the cost for the transition (step)\n",
    "        step = math.sqrt((x2 - x1) ** 2 + (y2 - y1) ** 2)\n",
    "\n",
    "        # Create a Knight_state object for the neighboring state\n",
    "        neighbor_state = Knight_state(x2, y2, g=curr_state.g + step, parent=curr_state)\n",
    "\n",
    "        # Calculate the cost and heuristic value for the neighboring state\n",
    "        neighbor_state.calc_cost(end)  # Assuming 'end' is the goal state\n",
    "\n",
    "        # Append the neighboring state to the list\n",
    "        neighbors.append(neighbor_state)\n",
    "\n",
    "    return neighbors\n",
    "\n",
    "# Output next positions information\n",
    "neighbour_pos = get_neighbours(start, N)\n",
    "next_state = neighbour_pos\n",
    "print(\"Number of the possible next positions:\",len(next_state))\n",
    "print()\n",
    "print(\"One of the possible next positions description:\")\n",
    "print(\"Coordinates:\", (next_state[0].x, next_state[0].y))\n",
    "print(\"Cost:\", next_state[0].cost)"
   ]
  },
  {
   "cell_type": "markdown",
   "id": "f2a62269",
   "metadata": {},
   "source": [
    "### Step 3\n",
    "\n",
    "\n",
    "Time to craft a function called **get_min()**. Its job is simple: you feed it a list of knight states, and it's going to tell you which knight state has the minimum cost, and it'll give you the index too.\n",
    "\n",
    "**Input:** Just hand it a list of states or nodes. And in this list, we're expecting those trusty Knight_state objects. *(List of Knight_state object)*\n",
    "\n",
    "**Output:** What you'll get in return is the index of that knight state with the minimum cost. It's just an integer that points you right to the winner. *(Integer)*"
   ]
  },
  {
   "cell_type": "markdown",
   "id": "2dc04d34",
   "metadata": {},
   "source": [
    "#### Code:"
   ]
  },
  {
   "cell_type": "code",
   "execution_count": 4,
   "id": "7c25f897",
   "metadata": {
    "scrolled": false
   },
   "outputs": [
    {
     "name": "stdout",
     "output_type": "stream",
     "text": [
      "The list of costs: [9.447170528427769, 7.89292222699217, 12.135562914111455, 9.851841083363698, 10.838393244542416, 8.06701987234509]\n",
      "Index of minimum cost: 1\n",
      "Minimum cost: 7.89292222699217\n"
     ]
    }
   ],
   "source": [
    "### STEP 3: Define a function that outputs the minimum cost of the different next possible knight's positions\n",
    "\n",
    "def get_min(frontier):\n",
    "    \"\"\"\n",
    "    Find the index of the knight state with the minimum cost in a list of states.\n",
    "\n",
    "    Args:\n",
    "    frontier (list of Knight_state): List of knight states to search for the minimum cost.\n",
    "\n",
    "    Returns:\n",
    "    int: The index of the knight state with the minimum cost.\n",
    "    \"\"\"\n",
    "    min_state = min(frontier, key=lambda state: state.cost)\n",
    "\n",
    "    # Find the index of the minimum state in the list\n",
    "    min_index = frontier.index(min_state)\n",
    "\n",
    "    return min_index\n",
    "\n",
    "# Function call and necessary info outputs\n",
    "n = Knight_state(6,5)\n",
    "list_states = get_neighbours(n,N)\n",
    "min_i = get_min(list_states)\n",
    "cost_list = [i.cost for i in list_states]\n",
    "pos_list = [(i.x,i.y) for i in list_states]\n",
    "print(\"The list of costs:\", cost_list)\n",
    "print(\"Index of minimum cost:\", min_i)\n",
    "print(\"Minimum cost:\",cost_list[min_i])"
   ]
  },
  {
   "cell_type": "markdown",
   "id": "5377442d",
   "metadata": {},
   "source": [
    "### Step 3.1"
   ]
  },
  {
   "cell_type": "markdown",
   "id": "83122773",
   "metadata": {},
   "source": [
    "In this next step of our Knight's Tour quest, we're gearing up with some essential gear. First, we've got our trusty \"frontier\" list, where we'll store the states we're about to explore. Then, there's the \"explored\" list, keeping a record of the places we've already been. We kick things off by adding our starting position to the frontier – it's like planting our flag and saying, \"Let the adventure begin!\" We've also got the \"goal\" waiting in the wings to store the end state once we've conquered it. To keep things organized, we've got our \"itr,\" which counts our steps, and \"min_index,\" the ace up our sleeve for spotting the state with the minimum cost. These tools are our navigation aids as we embark on the journey to solve the Knight's Tour puzzle."
   ]
  },
  {
   "cell_type": "code",
   "execution_count": 5,
   "id": "54d96944",
   "metadata": {},
   "outputs": [],
   "source": [
    "# Initialize an empty list to store states to be explored (frontier) and explored states.\n",
    "frontier = []\n",
    "explored = []\n",
    "\n",
    "# Add the starting state (start) to the frontier, as we begin the search from the starting position.\n",
    "frontier.append(start)\n",
    "\n",
    "# Initialize the goal variable, which will hold the goal state when found.\n",
    "goal = None\n",
    "\n",
    "# Initialize the iteration counter to keep track of the number of iterations in the search.\n",
    "itr = 1\n",
    "\n",
    "# Initialize the minimum index to keep track of the state with the minimum cost in the frontier.\n",
    "min_index = 0"
   ]
  },
  {
   "cell_type": "markdown",
   "id": "6eb15907",
   "metadata": {},
   "source": [
    "### Step 4\n",
    "\n",
    "Alright, let's dive into the iteration part. We're going to cruise through the queue, hitting up different states in our tree. Here's what's on the itinerary:\n",
    "\n",
    "1) We start by popping out the element from the frontier list. But we're picky; we want the one with the minimum cost, and we know where to find it – **min_index**.\n",
    "\n",
    "**NOTE:** At the beginning of this journey, we've only got the start node. So, initially, **min_index** is set to 0.\n",
    "\n",
    "Once we've got that node, we do a quick check. Are we at our destination, our **end state**? If we are, we've reached our **goal**.\n",
    "\n",
    "**If not** there yet, it's time to make some new friends. We find the **neighbors**, and if we haven't **explored** them before and they're not already in the **frontier**, we add them. But, if they're already in our queue, we update their state.\n",
    "\n",
    "So, we're popping nodes, checking if we're done, and making new friends along the way. That's how we roll through this tree."
   ]
  },
  {
   "cell_type": "markdown",
   "id": "4436effe",
   "metadata": {},
   "source": [
    "#### Code:"
   ]
  },
  {
   "cell_type": "code",
   "execution_count": 6,
   "id": "1711b743",
   "metadata": {},
   "outputs": [],
   "source": [
    "### STEP 4: Create the iterative algorithm to look for the best path for the knight.\n",
    "while len(frontier)>0:\n",
    "    node = None\n",
    "\n",
    "    '''\n",
    "    \n",
    "    Sub-Task_1: Pop the Knight state from the frontier using the minimum index.\n",
    "                Update the 'visited' and 'explored' attributes if needed.\n",
    "\n",
    "    Sub-Task_2: Check if the current node is the end node.\n",
    "                If it is, assign the node to the 'goal' variable.\n",
    "                Terminate the loop.\n",
    "\n",
    "    '''\n",
    "        \n",
    "    min_index = get_min(frontier)\n",
    "    node = frontier.pop(min_index)\n",
    "    explored.append(node)\n",
    "\n",
    "    if node.x == end.x and node.y == end.y:\n",
    "        goal = node\n",
    "        break\n",
    "\n",
    "    neighbours = get_neighbours(node, N)\n",
    "\n",
    "    '''\n",
    "  \n",
    "    UPDATING FRONTIER:\n",
    "        - Iterate through neighboring states.\n",
    "        - Add a state to the frontier if it hasn't been explored and is not already present in the frontier.\n",
    "        - If the neighboring state is already in the frontier, update the node in the frontier if the cost \n",
    "          is lower than the previous cost.\n",
    "\n",
    "    '''\n",
    "    for neighbour in neighbours:\n",
    "        if (neighbour not in frontier) and (neighbour not in explored):\n",
    "            frontier.append(neighbour)\n",
    "        elif neighbour in frontier:\n",
    "            for i in range(len(frontier)):\n",
    "                if neighbour == frontier[i]:\n",
    "                    if neighbour.cost < frontier[i].cost:\n",
    "                        frontier[i]=neighbour\n",
    "\n",
    "\n",
    "    if len(frontier)>0:\n",
    "        min_index = get_min(frontier)\n",
    "\n",
    "    itr += 1\n",
    "    if len(frontier)==0:\n",
    "        print(\"Solution not found\")"
   ]
  },
  {
   "cell_type": "markdown",
   "id": "6cac3d6d",
   "metadata": {},
   "source": [
    "### Step 4.1\n",
    "\n",
    "The assert statement below, serves as a safeguard. Its purpose is to ensure that the variable goal is not empty or undefined before proceeding further in the code. In technical terms, it acts as a sanity check, preventing the execution of subsequent code if goal happens to be uninitialized or lacking a valid value. Essentially, it's a way to catch potential errors early in the process, providing users with a helpful safety net to avoid unexpected issues. This assert statement is thoughtfully included in the notebook to maintain code reliability and stability."
   ]
  },
  {
   "cell_type": "code",
   "execution_count": 7,
   "id": "b4921376",
   "metadata": {},
   "outputs": [],
   "source": [
    "assert goal is not None"
   ]
  },
  {
   "cell_type": "markdown",
   "id": "9e91fd14",
   "metadata": {},
   "source": [
    "### Step 5\n",
    "\n",
    "#### backtrace(node) \n",
    "\n",
    "It's a handy function already defined for your convenience.\n",
    "\n",
    "This function, is a critical tool that helps users trace their steps from a goal node back to the starting point. It's particularly useful in search algorithms. \n",
    "\n",
    "**Here's how it works:** \n",
    "When called with a node as input, it examines if the node has a parent. If it's the start node (i.e., it has no parent), it simply records its coordinates and returns that as the path. If it's not the start node, it delves into the recursion magic. \n",
    "\n",
    "It backtracks through the parent nodes, building the path incrementally by collecting the coordinates of each node visited. This way, it constructs a complete path from the goal back to the starting point. Once you call it with the goal node, it does its thing and prints out the solution path, showing you the journey from start to finish. "
   ]
  },
  {
   "cell_type": "code",
   "execution_count": 8,
   "id": "af5dd5d1",
   "metadata": {},
   "outputs": [
    {
     "name": "stdout",
     "output_type": "stream",
     "text": [
      "The solution Path is: \n",
      "[(7, 7), (5, 6), (4, 4), (2, 3), (0, 2), (2, 1), (0, 0)]\n"
     ]
    }
   ],
   "source": [
    "def backtrace(node):\n",
    "    # Initialize an empty list to store the path.\n",
    "    path = []\n",
    "    \n",
    "    # If the current node has no parent, it is the start node.\n",
    "    if node.parent is None:\n",
    "        position = (node.x, node.y)  # Get the coordinates of the current node.\n",
    "        path.append(position)        # Append the coordinates to the path list.\n",
    "        return path                 # Return the path.\n",
    "\n",
    "    else:\n",
    "        # Recursively backtrack through the parent nodes.\n",
    "        path = backtrace(node.parent)\n",
    "        \n",
    "        position = (node.x, node.y)  # Get the coordinates of the current node.\n",
    "        path.append(position)        # Append the coordinates to the path list.\n",
    "        return path                 # Return the updated path.\n",
    "\n",
    "# Example usage:\n",
    "path = backtrace(goal)              # Call the backtrace function starting from the goal node.\n",
    "print(\"The solution Path is: \")\n",
    "print(path)                         # Print the resulting path."
   ]
  },
  {
   "cell_type": "markdown",
   "id": "6f7c4f3a",
   "metadata": {},
   "source": [
    "### Well done! \n",
    "\n",
    "#### Now, if you like, you could re-create this path either digitally or physically using these coordinates. You could also play along and try different start and end nodes out of curiosity."
   ]
  },
  {
   "cell_type": "markdown",
   "id": "0f882f43",
   "metadata": {},
   "source": [
    "## Summary and Closing Notes"
   ]
  },
  {
   "cell_type": "markdown",
   "id": "9c3ec300",
   "metadata": {},
   "source": [
    "In this code walkthrough, we delved into the realm of informed search trees and the A* search algorithm to tackle the intriguing problem of the knight's tour on a chessboard. By defining the problem in terms of states, calculating costs using an evaluation function, and efficiently exploring neighboring states, we were able to discover the optimal path for the knight to visit every square on the chessboard without revisiting any. The A* search strategy, combined with well-crafted functions and careful exploration, led us to a satisfying solution. This exercise serves as a great example of problem-solving and algorithmic thinking in the context of a classic chess puzzle."
   ]
  },
  {
   "cell_type": "markdown",
   "id": "f9d74590",
   "metadata": {},
   "source": [
    "### Credits:\n",
    "\n",
    "By [curlypetrol](https://github.com/curlypetrol), 2023\n",
    "<p> This work is licensed under <a href=\"http://creativecommons.org/licenses/by/4.0/?ref=chooser-v1\" target=\"_blank\" rel=\"license noopener noreferrer\">CC BY 4.0</a> <img style=\"height:22px!important;margin-left:3px;vertical-align:text-bottom; display: inline;\" src=\"https://mirrors.creativecommons.org/presskit/icons/cc.svg?ref=chooser-v1\"> <img style=\"height:22px!important;margin-left:3px;vertical-align:text-bottom; display: inline;\" src=\"https://mirrors.creativecommons.org/presskit/icons/by.svg?ref=chooser-v1\"></p>"
   ]
  }
 ],
 "metadata": {
  "kernelspec": {
   "display_name": "Python 3 (ipykernel)",
   "language": "python",
   "name": "python3"
  },
  "language_info": {
   "codemirror_mode": {
    "name": "ipython",
    "version": 3
   },
   "file_extension": ".py",
   "mimetype": "text/x-python",
   "name": "python",
   "nbconvert_exporter": "python",
   "pygments_lexer": "ipython3",
   "version": "3.11.4"
  }
 },
 "nbformat": 4,
 "nbformat_minor": 5
}
